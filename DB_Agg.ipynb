{
 "cells": [
  {
   "cell_type": "code",
   "execution_count": 1,
   "metadata": {},
   "outputs": [],
   "source": [
    "import requests\n",
    "import json\n",
    "import pandas as pd\n",
    "import numpy as np\n",
    "\n",
    "def login(username, password):\n",
    "    # add a docstring here that defines what each parameter is, and what the overall function does.\n",
    "    # See here for more info on what docstrings are:  https://peps.python.org/pep-0257/\n",
    "    body = {'username': username, 'password': password}\n",
    "    resp = requests.post('https://api.bourseview.com/login', data=json.dumps(body))\n",
    "    data = json.loads(resp.text)\n",
    "    return data['token'], data['expiration']\n",
    "   "
   ]
  },
  {
   "cell_type": "markdown",
   "metadata": {},
   "source": [
    "this code exctract embeded json file in a loop from an API and then convert special part of the embeded data into CSV form"
   ]
  },
  {
   "cell_type": "code",
   "execution_count": null,
   "metadata": {},
   "outputs": [],
   "source": [
    "# If these are constants, then they should be capitalized.  See here: https://realpython.com/python-constants/\n",
    "audit = True\n",
    "companies=105\n",
    "consolidated = True\n",
    "date=14000312\n",
    "exchanges='IRO3PZGZ0001'\n",
    "fiscalMonths =12\n",
    "fiscalYears=[1399]\n",
    "period = 'year'\n",
    "rr = 'cashFlow'\n",
    "    #rr='incomeStatement'\n",
    "    #rr='cashFlow'\n",
    "company=pd.read_csv('index_csv.csv')\n",
    "company=company.iloc[1:, 0].tolist()\n",
    "company\n",
    "\n",
    "\n",
    "  "
   ]
  },
  {
   "cell_type": "code",
   "execution_count": 7,
   "metadata": {},
   "outputs": [],
   "source": [
    "def get_quotes(token,i,j):\n",
    "    # Docstring needed\n",
    "    #main_url = 'https://api.bourseview.com/v2/stocks/statements?statementTypes={statementTypes}&tickers={tickers}&iscalMonths={fiscalMonths}&fiscalYears={fiscalYears}]&lang=fa'\n",
    "    main_url = f'https://api.bourseview.com/v2/stocks/statements?statementTypes={rr}&tickers={company[i]}&fiscalYears={fiscalYears[j]}&lang=fa&period={period}&fiscalMonths=12'\n",
    "    headers = {\n",
    "\t'Cookie': 'Authorization=' + token\n",
    "\t\t\t\t}\n",
    "    result = requests.get(url=main_url,headers=headers)\n",
    "    json_data = result.json()\n",
    "    return json_data\n"
   ]
  },
  {
   "cell_type": "code",
   "execution_count": 8,
   "metadata": {},
   "outputs": [],
   "source": [
    "def get_tickers(token):\n",
    "    main_url = \"https://api.bourseview.com/v2/tickers\"\n",
    "    headers = {\n",
    "\t  'Cookie': 'Authorization=' + token\n",
    "\t\t\t\t\t}\n",
    "    result = requests.get(url=main_url, params=None, headers=headers)\n",
    "    json_data = result.json()\n",
    "    return json_data"
   ]
  },
  {
   "cell_type": "code",
   "execution_count": null,
   "metadata": {},
   "outputs": [],
   "source": [
    "for j in list(range(len(fiscalYears))):\n",
    "  for i in list(range(len(company))):\n",
    "    try: \n",
    "     token, expired_date = login('test', 'test')\n",
    "    except KeyError:\n",
    "     pass \n",
    "    # /quotes\n",
    "    quotes_data = get_quotes(token,i,j)\n",
    "    print(quotes_data)\n",
    "    import pprint \n",
    "    pp = pprint.PrettyPrinter(indent=6)\n",
    "    pp.pprint(quotes_data)\n",
    "    out_file = open(f\"{company[i]}-{rr}-{fiscalYears[j]}.json\", \"w\") \n",
    "    json.dump(quotes_data, out_file, indent = 4) \n",
    "    out_file.close()\n",
    "    ##############################################\n",
    "    # Move the function defintion out of the loop.  It should be CALLED here, but not defined here.\n",
    "    def read_json(filename: str) -> dict:\n",
    "                #Add a docstring\n",
    "                    try:\n",
    "                        with open(filename, \"r\") as f:\n",
    "                            mydata = json.loads(f.read())\n",
    "                    except:\n",
    "                        raise Exception(f\"Reading {filename} file encountered an error\")\n",
    "                \n",
    "                    return mydata #try using something more descriptive as a variable name here.  What state is the data in? What kind of data is it?\n",
    "    ##############################################\n",
    "    mydata=read_json(filename=f\"{company[i]}-{rr}-{fiscalYears[j]}.json\")\n",
    "\n",
    "    #Let's break this up more.  It looks like the data is a dictionary/list combination.  \n",
    "    # Try using the methods .keys() and .items() to access the data in a reliable, fail safe way. \n",
    "    try:\n",
    "      mydata2=mydata['tickers'][0]['items'][0]['days'][0]['items']\n",
    "      mydata2[12]\n",
    "    except IndexError:\n",
    "          try:\n",
    "            mydata2=mydata['tickers'][0]['items'][1]['days'][0]['items']\n",
    "            mydata2[12]\n",
    "          except IndexError:\n",
    "            try:\n",
    "              mydata2=mydata['tickers'][0]['items'][2]['days'][0]['items']\n",
    "              mydata2[12]\n",
    "            except IndexError:\n",
    "              try:\n",
    "                mydata2=mydata['tickers'][0]['items'][3]['days'][0]['items']\n",
    "                mydata2[12]\n",
    "              except IndexError:\n",
    "                try:\n",
    "                 mydata2=mydata['tickers'][0]['items'][4]['days'][0]['items']\n",
    "                 mydata2[12]\n",
    "                except (IndexError):\n",
    "                  try:\n",
    "                   mydata2=[]\n",
    "                  except(TypeError):\n",
    "                    mydata2=[]\n",
    "    mydata=read_json(filename=f\"{company[i]}-{rr}-{fiscalYears[j]}.json\")\n",
    "    np.savetxt(f\"{company[i]}-{rr}-{fiscalYears[j]}.csv\", mydata2, delimiter=\", \", fmt=\"% s\")\n",
    "        \n",
    "\n",
    "    \n",
    "            \n",
    "\n"
   ]
  },
  {
   "cell_type": "code",
   "execution_count": null,
   "metadata": {},
   "outputs": [],
   "source": []
  }
 ],
 "metadata": {
  "kernelspec": {
   "display_name": "Python 3",
   "language": "python",
   "name": "python3"
  },
  "language_info": {
   "codemirror_mode": {
    "name": "ipython",
    "version": 3
   },
   "file_extension": ".py",
   "mimetype": "text/x-python",
   "name": "python",
   "nbconvert_exporter": "python",
   "pygments_lexer": "ipython3",
   "version": "3.8.2 (default, Jun  8 2021, 11:59:35) \n[Clang 12.0.5 (clang-1205.0.22.11)]"
  },
  "orig_nbformat": 4,
  "vscode": {
   "interpreter": {
    "hash": "31f2aee4e71d21fbe5cf8b01ff0e069b9275f58929596ceb00d14d90e3e16cd6"
   }
  }
 },
 "nbformat": 4,
 "nbformat_minor": 2
}
