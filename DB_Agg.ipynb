{
 "cells": [
  {
   "cell_type": "code",
   "execution_count": 1,
   "metadata": {},
   "outputs": [],
   "source": [
    "import requests\n",
    "import json\n",
    "import pandas as pd\n",
    "import numpy as np\n",
    "\n",
    "def login(username, password):\n",
    "    body = {'username': username, 'password': password}\n",
    "    resp = requests.post('https://api.bourseview.com/login', data=json.dumps(body))\n",
    "    data = json.loads(resp.text)\n",
    "    return data['token'], data['expiration']\n",
    "   "
   ]
  },
  {
   "cell_type": "markdown",
   "metadata": {},
   "source": [
    "this code exctarct embeded json file in a loop from an API and then convert special part of the embeded data into CSV form"
   ]
  },
  {
   "cell_type": "code",
   "execution_count": null,
   "metadata": {},
   "outputs": [],
   "source": [
    "audit = True\n",
    "companies=105\n",
    "consolidated = True\n",
    "date=14000312\n",
    "exchanges='IRO3PZGZ0001'\n",
    "fiscalMonths =12\n",
    "fiscalYears=[1399]\n",
    "period = 'year'\n",
    "rr = 'cashFlow'\n",
    "    #rr='incomeStatement'\n",
    "    #rr='cashFlow'\n",
    "company=pd.read_csv('index_csv.csv')\n",
    "company=company.iloc[1:, 0].tolist()\n",
    "company\n",
    "\n",
    "\n",
    "  "
   ]
  },
  {
   "cell_type": "code",
   "execution_count": 7,
   "metadata": {},
   "outputs": [],
   "source": [
    "def get_quotes(token,i,j):\n",
    "\n",
    "    #main_url = 'https://api.bourseview.com/v2/stocks/statements?statementTypes={statementTypes}&tickers={tickers}&iscalMonths={fiscalMonths}&fiscalYears={fiscalYears}]&lang=fa'\n",
    "    main_url = f'https://api.bourseview.com/v2/stocks/statements?statementTypes={rr}&tickers={company[i]}&fiscalYears={fiscalYears[j]}&lang=fa&period={period}&fiscalMonths=12'\n",
    "    headers = {\n",
    "\t'Cookie': 'Authorization=' + token\n",
    "\t\t\t\t}\n",
    "    result = requests.get(url=main_url,headers=headers)\n",
    "    json_data = result.json()\n",
    "    return json_data\n"
   ]
  },
  {
   "cell_type": "code",
   "execution_count": 8,
   "metadata": {},
   "outputs": [],
   "source": [
    "def get_tickers(token):\n",
    "    main_url = \"https://api.bourseview.com/v2/tickers\"\n",
    "    headers = {\n",
    "\t  'Cookie': 'Authorization=' + token\n",
    "\t\t\t\t\t}\n",
    "    result = requests.get(url=main_url, params=None, headers=headers)\n",
    "    json_data = result.json()\n",
    "    return json_data"
   ]
  },
  {
   "cell_type": "code",
   "execution_count": null,
   "metadata": {},
   "outputs": [],
   "source": [
    "for j in list(range(len(fiscalYears))):\n",
    "  for i in list(range(len(company))):\n",
    "    try: \n",
    "     token, expired_date = login('test', 'test')\n",
    "    except KeyError:\n",
    "     pass \n",
    "    # /quotes\n",
    "    quotes_data = get_quotes(token,i,j)\n",
    "    print(quotes_data)\n",
    "    import pprint \n",
    "    pp = pprint.PrettyPrinter(indent=6)\n",
    "    pp.pprint(quotes_data)\n",
    "    out_file = open(f\"{company[i]}-{rr}-{fiscalYears[j]}.json\", \"w\") \n",
    "    json.dump(quotes_data, out_file, indent = 4) \n",
    "    out_file.close()\n",
    "    ##############################################\n",
    "    def read_json(filename: str) -> dict:\n",
    "                \n",
    "                    try:\n",
    "                        with open(filename, \"r\") as f:\n",
    "                            mydata = json.loads(f.read())\n",
    "                    except:\n",
    "                        raise Exception(f\"Reading {filename} file encountered an error\")\n",
    "                \n",
    "                    return mydata \n",
    "    ##############################################\n",
    "    mydata=read_json(filename=f\"{company[i]}-{rr}-{fiscalYears[j]}.json\")\n",
    "    try:\n",
    "      mydata2=mydata['tickers'][0]['items'][0]['days'][0]['items']\n",
    "      mydata2[12]\n",
    "    except IndexError:\n",
    "          try:\n",
    "            mydata2=mydata['tickers'][0]['items'][1]['days'][0]['items']\n",
    "            mydata2[12]\n",
    "          except IndexError:\n",
    "            try:\n",
    "              mydata2=mydata['tickers'][0]['items'][2]['days'][0]['items']\n",
    "              mydata2[12]\n",
    "            except IndexError:\n",
    "              try:\n",
    "                mydata2=mydata['tickers'][0]['items'][3]['days'][0]['items']\n",
    "                mydata2[12]\n",
    "              except IndexError:\n",
    "                try:\n",
    "                 mydata2=mydata['tickers'][0]['items'][4]['days'][0]['items']\n",
    "                 mydata2[12]\n",
    "                except (IndexError):\n",
    "                  try:\n",
    "                   mydata2=[]\n",
    "                  except(TypeError):\n",
    "                    mydata2=[]\n",
    "    mydata=read_json(filename=f\"{company[i]}-{rr}-{fiscalYears[j]}.json\")\n",
    "    np.savetxt(f\"{company[i]}-{rr}-{fiscalYears[j]}.csv\", mydata2, delimiter=\", \", fmt=\"% s\")\n",
    "        \n",
    "\n",
    "    \n",
    "            \n",
    "\n"
   ]
  },
  {
   "cell_type": "code",
   "execution_count": null,
   "metadata": {},
   "outputs": [],
   "source": []
  }
 ],
 "metadata": {
  "interpreter": {
   "hash": "aaee4e88c8713e583bc21b571e15121b26e77456b19712a4698a0a9b5e3320c0"
  },
  "kernelspec": {
   "display_name": "Python 3.9.0 64-bit",
   "language": "python",
   "name": "python3"
  },
  "language_info": {
   "codemirror_mode": {
    "name": "ipython",
    "version": 3
   },
   "file_extension": ".py",
   "mimetype": "text/x-python",
   "name": "python",
   "nbconvert_exporter": "python",
   "pygments_lexer": "ipython3",
   "version": "3.9.0"
  },
  "orig_nbformat": 4
 },
 "nbformat": 4,
 "nbformat_minor": 2
}
